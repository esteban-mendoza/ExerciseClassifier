{
 "cells": [
  {
   "cell_type": "markdown",
   "metadata": {},
   "source": [
    "# Exercise Classification Project\n",
    "\n",
    "_Jorge Esteban Mendoza Ortiz_. Applied Mathematician at UNAM.\n",
    "\n",
    "[esteban.mendoza@outlook.com](mailto:esteban.mendoza@outlook.com)"
   ]
  },
  {
   "cell_type": "markdown",
   "metadata": {},
   "source": [
    "The so-called Human Activity Recognition (HAR) is a research area whose objective is to measure and understand human physical interactions with its environment with the use of sensors and observations of many kinds. For a wider view on HAR, you can refer to the corresponding [Wikipedia article](https://en.wikipedia.org/wiki/Activity_recognition).\n",
    "\n",
    "HAR has attracted attention in recent years due to our increasing ability to produce large amounts of data with the use of devices such as _Jawbone Up_, _Nike FuelBand_, and _Fitbit_, that take advantage of sensors such as accelerometers to monitor the physical performance of an individual while performing exercises or other kinds of activities.\n",
    "\n",
    "As one might expect, there are many potential applications for HAR, like: elderly monitoring, life log systems for monitoring energy expenditure and for supporting weight-loss programs, and digital assistants for weight lifting exercises.\n",
    "\n",
    "The purpose of this project is to use the [_Weight Lifting Exercises (WLE)_ Dataset](http://groupware.les.inf.puc-rio.br/har#weight_lifting_exercises) to create a classifier that predicts whether an exercise is being properly performed or not. The _WLE_ Dataset was created from measurements of accelerometers placed on the belt, forearm, arm, and dumbbell of 6 participants. The participants were then asked to perform an exercise in 5 different ways - 4 of which constitute common mistakes. Our specific goal is to build a model that is capable of predicting the _classe_ variable in the dataset, that labels the manner in which the exercise was performed.\n",
    "\n",
    "The present report will lay-out the process of building and implementing the model."
   ]
  },
  {
   "cell_type": "markdown",
   "metadata": {},
   "source": [
    "## Exploratory data analysis and pre-processing"
   ]
  },
  {
   "cell_type": "markdown",
   "metadata": {},
   "source": [
    "According to the [Groupware@LES website](http://groupware.les.inf.puc-rio.br/har#weight_lifting_exercises) that hosts the original dataset:\n",
    "\n",
    "> Six young health participants were asked to perform one set of 10 repetitions of the Unilateral Dumbbell Biceps Curl [[example video](https://youtu.be/YxtwA7XRK_g)] in five different fashions: exactly according to the specification (Class A), throwing the elbows to the front (Class B), lifting the dumbbell only halfway (Class C), lowering the dumbbell only halfway (Class D) and throwing the hips to the front (Class E).\n",
    "\n",
    "> Class A corresponds to the specified execution of the exercise, while the other 4 classes correspond to common mistakes."
   ]
  },
  {
   "cell_type": "code",
   "execution_count": 5,
   "metadata": {},
   "outputs": [],
   "source": [
    "# Creating data directory\n",
    "if (!dir.exists(\"data\"))\n",
    "    dir.create(file.path(\"data\"))\n",
    "\n",
    "# Downloading data\n",
    "url_training = \"https://d396qusza40orc.cloudfront.net/predmachlearn/pml-training.csv\"\n",
    "url_testing = \"https://d396qusza40orc.cloudfront.net/predmachlearn/pml-testing.csv\"\n",
    "\n",
    "if (!file.exists(\"data/pml-training.csv\"))\n",
    "    download.file(url_training, destfile = \"data/pml-training.csv\")\n",
    "if (!file.exists(\"data/pml-testing.csv\"))\n",
    "    download.file(url_testing, destfile = \"data/pml-testing.csv\")"
   ]
  },
  {
   "cell_type": "code",
   "execution_count": 6,
   "metadata": {},
   "outputs": [],
   "source": [
    "# Loading data\n",
    "training = read.csv(\"data/pml-training.csv\", na.strings=c(\"NA\",\"\"))\n",
    "testing = read.csv(\"data/pml-testing.csv\", na.strings=c(\"NA\",\"\"))"
   ]
  },
  {
   "cell_type": "markdown",
   "metadata": {},
   "source": [
    "Now, we will only point out to the few important characteristics and details found in the dataset that required some kind of pre-processing before we could fit the model.\n",
    "\n",
    "First of all, we must note that from the 160 available variables in the dataset, we will only use 54 of them. The reasons are the following:\n",
    "\n",
    "- We plan to fit a random forest model that allows us to predict the ```classe``` variable. In order to fit this model, we need our datasets to contain no NAs and we will also drop some unnecessary varilables.\n",
    "- The first 7 variables in the dataset consist of a redundant variable with the index of each register, usernames and timestamps, that are unnecessary in the model.\n",
    "- After some exploration we could determine that only 406 of the registers contained no NAs in all the variables, which constitutes little more than 2% of the whole data. This can be verified with the following commmand ```sum(apply(!is.na(training), 1, all))```.\n",
    "- Furthermore, the NAs are concentrated along more than 100 variables, each of which have more than 95% of NAs on its registers.\n",
    "\n",
    "Taking the above points into consideration we will proceed to preprocess our data in order to have a suitable form of it"
   ]
  },
  {
   "cell_type": "code",
   "execution_count": 7,
   "metadata": {},
   "outputs": [],
   "source": [
    "# Dropping index, time stamps and usernames\n",
    "training = training[,7:160]\n",
    "testing = testing[,7:160]\n",
    "\n",
    "## Dropping mostly NAs varilables\n",
    "mostly_data = apply(!is.na(training), 2, mean) > 0.95\n",
    "\n",
    "training = training[,mostly_data]\n",
    "testing = testing[,mostly_data]"
   ]
  },
  {
   "cell_type": "markdown",
   "metadata": {},
   "source": [
    "## Model training"
   ]
  },
  {
   "cell_type": "markdown",
   "metadata": {},
   "source": [
    "We first will load up the necessary libraries to perform the model fitting. These are as follows."
   ]
  },
  {
   "cell_type": "code",
   "execution_count": null,
   "metadata": {},
   "outputs": [],
   "source": [
    "# Required libraries\n",
    "library(caret)\n",
    "library(randomForest)\n",
    "library(doParallel)"
   ]
  },
  {
   "cell_type": "markdown",
   "metadata": {},
   "source": [
    "In order to improve the fitting of the model, we will setup a parallel cluster. "
   ]
  },
  {
   "cell_type": "code",
   "execution_count": 9,
   "metadata": {},
   "outputs": [],
   "source": [
    "# Parallel processing\n",
    "cluster <- makeCluster(detectCores())\n",
    "registerDoParallel(cluster)"
   ]
  },
  {
   "cell_type": "markdown",
   "metadata": {},
   "source": [
    "Before we proceed to train the model, we will generate a partition of the training dataset so we can estimate the out-of-sample error of the model."
   ]
  },
  {
   "cell_type": "code",
   "execution_count": 10,
   "metadata": {},
   "outputs": [],
   "source": [
    "# Creating validation set\n",
    "set.seed(2412)\n",
    "inTrain = createDataPartition(training$classe, p = 0.8, list = FALSE)\n",
    "\n",
    "train0 = training[inTrain,]\n",
    "validation = training[-inTrain,]"
   ]
  },
  {
   "cell_type": "markdown",
   "metadata": {},
   "source": [
    "Now, we proceed to fit a random forest model with ```caret::train()``` with the following options:\n",
    "- We select ```method = \"rf\"```, which calls the randomForest library, already attached.\n",
    "\n",
    "- Within the call to ```caret::trainControl()```, we choose to perform cross-validation 5 times with the k-fold method, and\n",
    "\n",
    "- We setup ```allowParallel = TRUE``` so it can perform a parallel computation with the ```doParallel``` backend activated."
   ]
  },
  {
   "cell_type": "code",
   "execution_count": 11,
   "metadata": {},
   "outputs": [],
   "source": [
    "h = train(classe ~ ., data=training, method = \"rf\",\n",
    "          trControl = trainControl(method = \"cv\", number = 5, \n",
    "                                   allowParallel = TRUE))"
   ]
  },
  {
   "cell_type": "markdown",
   "metadata": {},
   "source": [
    "Lastly, we shut down the cluster and register sequencing processing."
   ]
  },
  {
   "cell_type": "code",
   "execution_count": 12,
   "metadata": {},
   "outputs": [],
   "source": [
    "## Shutting down parallel\n",
    "stopCluster(cluster)\n",
    "registerDoSEQ()"
   ]
  },
  {
   "cell_type": "markdown",
   "metadata": {},
   "source": [
    "## Model performance"
   ]
  },
  {
   "cell_type": "markdown",
   "metadata": {},
   "source": [
    "The default output of the model object as outlined will provide us with quite some information about the performance of the model."
   ]
  },
  {
   "cell_type": "code",
   "execution_count": 13,
   "metadata": {},
   "outputs": [
    {
     "name": "stdout",
     "output_type": "stream",
     "text": [
      "Random Forest \n",
      "\n",
      "19622 samples\n",
      "   53 predictor\n",
      "    5 classes: 'A', 'B', 'C', 'D', 'E' \n",
      "\n",
      "No pre-processing\n",
      "Resampling: Cross-Validated (5 fold) \n",
      "Summary of sample sizes: 15696, 15698, 15699, 15697, 15698 \n",
      "Resampling results across tuning parameters:\n",
      "\n",
      "  mtry  Accuracy   Kappa    \n",
      "   2    0.9961780  0.9951655\n",
      "  27    0.9983693  0.9979373\n",
      "  53    0.9960251  0.9949721\n",
      "\n",
      "Accuracy was used to select the optimal model using the largest value.\n",
      "The final value used for the model was mtry = 27.\n"
     ]
    }
   ],
   "source": [
    "print(h)"
   ]
  },
  {
   "cell_type": "markdown",
   "metadata": {},
   "source": [
    "As it was already explained, the in-sample accuracy has been estimated using 5 k-folds cross validations, in such a way that the program sampled around 80% of the data, fitted the model and performed a validation on the 20% of the dataset held. The in-sample acuracy is estimated to be around 0.0.9983693, which constitutes a highly accurate fit.\n",
    "\n",
    "In order to get an estimation of the out-of-sample error, we will compare the prediction ability of the model, using it in the random portion of the set that was left out before training it. This portion represent approximately the 20% of the data."
   ]
  },
  {
   "cell_type": "code",
   "execution_count": 21,
   "metadata": {},
   "outputs": [
    {
     "data": {
      "text/plain": [
       "Confusion Matrix and Statistics\n",
       "\n",
       "          Reference\n",
       "Prediction    A    B    C    D    E\n",
       "         A 1116    0    0    0    0\n",
       "         B    0  759    0    0    0\n",
       "         C    0    0  684    0    0\n",
       "         D    0    0    0  643    0\n",
       "         E    0    0    0    0  721\n",
       "\n",
       "Overall Statistics\n",
       "                                     \n",
       "               Accuracy : 1          \n",
       "                 95% CI : (0.9991, 1)\n",
       "    No Information Rate : 0.2845     \n",
       "    P-Value [Acc > NIR] : < 2.2e-16  \n",
       "                                     \n",
       "                  Kappa : 1          \n",
       " Mcnemar's Test P-Value : NA         \n",
       "\n",
       "Statistics by Class:\n",
       "\n",
       "                     Class: A Class: B Class: C Class: D Class: E\n",
       "Sensitivity            1.0000   1.0000   1.0000   1.0000   1.0000\n",
       "Specificity            1.0000   1.0000   1.0000   1.0000   1.0000\n",
       "Pos Pred Value         1.0000   1.0000   1.0000   1.0000   1.0000\n",
       "Neg Pred Value         1.0000   1.0000   1.0000   1.0000   1.0000\n",
       "Prevalence             0.2845   0.1935   0.1744   0.1639   0.1838\n",
       "Detection Rate         0.2845   0.1935   0.1744   0.1639   0.1838\n",
       "Detection Prevalence   0.2845   0.1935   0.1744   0.1639   0.1838\n",
       "Balanced Accuracy      1.0000   1.0000   1.0000   1.0000   1.0000"
      ]
     },
     "metadata": {},
     "output_type": "display_data"
    }
   ],
   "source": [
    "## Out-of-sample accuracy\n",
    "output = predict(h, validation)\n",
    "confusionMatrix(output, validation$classe)"
   ]
  },
  {
   "cell_type": "markdown",
   "metadata": {},
   "source": [
    "We can appreciate that we get 100% accuracy even over a considerable portion of the dataset of almost 4000 registers. That being said, we will stick to the more conservative 95% confidence interval of (0.9991, 1) for estimating the out-of-sample error."
   ]
  }
 ],
 "metadata": {
  "kernelspec": {
   "display_name": "R",
   "language": "R",
   "name": "ir"
  },
  "language_info": {
   "codemirror_mode": "r",
   "file_extension": ".r",
   "mimetype": "text/x-r-source",
   "name": "R",
   "pygments_lexer": "r",
   "version": "3.5.0"
  }
 },
 "nbformat": 4,
 "nbformat_minor": 2
}
