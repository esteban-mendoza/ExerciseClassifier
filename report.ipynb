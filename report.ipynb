{
 "cells": [
  {
   "cell_type": "markdown",
   "metadata": {},
   "source": [
    "# Exercise Classification Project\n",
    "\n",
    "_Jorge Esteban Mendoza Ortiz_. Applied Mathematician at UNAM.\n",
    "\n",
    "[esteban.mendoza@outlook.com](mailto:esteban.mendoza@outlook.com)"
   ]
  },
  {
   "cell_type": "markdown",
   "metadata": {},
   "source": [
    "The so-called Human Activity Recognition (HAR) is a research area whose objective is to measure and understand human physical interactions with its environment with the use of sensors and observations of many kinds. For a wider view on HAR, you can refer to the corresponding [Wikipedia article](https://en.wikipedia.org/wiki/Activity_recognition).\n",
    "\n",
    "HAR has attracted attention in recent years due to our increasing ability to produce large amounts of data with the use of devices such as _Jawbone Up_, _Nike FuelBand_, and _Fitbit_, that take advantage of sensors such as accelerometers to monitor the physical performance of an individual while performing exercises or other kinds of activities.\n",
    "\n",
    "As one might expect, there are many potential applications for HAR, like: elderly monitoring, life log systems for monitoring energy expenditure and for supporting weight-loss programs, and digital assistants for weight lifting exercises.\n",
    "\n",
    "The purpose of this project is to use the [_Weight Lifting Exercises (WLE)_ Dataset](http://groupware.les.inf.puc-rio.br/har#weight_lifting_exercises) to create a classifier that predicts whether an exercise is being properly performed or not. The _WLE_ Dataset was created from measurements of accelerometers placed on the belt, forearm, arm, and dumbbell of 6 participants. The participants were then asked to perform an exercise in 5 different ways - 4 of which constitute common mistakes. Our specific goal will be to build a model that is capable of predicting the _classe_ variable in the dataset, that labels the manner in which the exercise was performed."
   ]
  },
  {
   "cell_type": "markdown",
   "metadata": {},
   "source": [
    "## Pre-processing"
   ]
  },
  {
   "cell_type": "markdown",
   "metadata": {},
   "source": [
    "According to the [Groupware@LES website](http://groupware.les.inf.puc-rio.br/har#weight_lifting_exercises) that hosts the original dataset:\n",
    "\n",
    "> Six young health participants were asked to perform one set of 10 repetitions of the Unilateral Dumbbell Biceps Curl [[example video](https://youtu.be/YxtwA7XRK_g)] in five different fashions: exactly according to the specification (Class A), throwing the elbows to the front (Class B), lifting the dumbbell only halfway (Class C), lowering the dumbbell only halfway (Class D) and throwing the hips to the front (Class E).\n",
    "\n",
    "> Class A corresponds to the specified execution of the exercise, while the other 4 classes correspond to common mistakes."
   ]
  },
  {
   "cell_type": "code",
   "execution_count": 1,
   "metadata": {},
   "outputs": [],
   "source": [
    "# Downloading data\n",
    "\n",
    "url_training = \"https://d396qusza40orc.cloudfront.net/predmachlearn/pml-training.csv\"\n",
    "url_testing = \"https://d396qusza40orc.cloudfront.net/predmachlearn/pml-testing.csv\"\n",
    "\n",
    "download.file(url_training, destfile = \"data/pml-training.csv\")\n",
    "download.file(url_testing, destfile = \"data/pml-testing.csv\")"
   ]
  },
  {
   "cell_type": "markdown",
   "metadata": {},
   "source": [
    "## Exploratory data analysis"
   ]
  },
  {
   "cell_type": "markdown",
   "metadata": {},
   "source": [
    "## Model training"
   ]
  },
  {
   "cell_type": "markdown",
   "metadata": {},
   "source": [
    "## Model performance"
   ]
  }
 ],
 "metadata": {
  "kernelspec": {
   "display_name": "R",
   "language": "R",
   "name": "ir"
  },
  "language_info": {
   "codemirror_mode": "r",
   "file_extension": ".r",
   "mimetype": "text/x-r-source",
   "name": "R",
   "pygments_lexer": "r",
   "version": "3.5.0"
  }
 },
 "nbformat": 4,
 "nbformat_minor": 2
}
